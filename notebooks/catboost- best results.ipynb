{
 "cells": [
  {
   "cell_type": "code",
   "execution_count": 2,
   "metadata": {
    "id": "V-VB6dWi3bsf"
   },
   "outputs": [],
   "source": [
    "import numpy as np\n",
    "import pandas as pd\n",
    "import matplotlib.pyplot as plt\n",
    "import seaborn as sns\n",
    "import warnings\n",
    "warnings.filterwarnings('ignore')"
   ]
  },
  {
   "cell_type": "code",
   "execution_count": 2,
   "metadata": {
    "colab": {
     "base_uri": "https://localhost:8080/"
    },
    "id": "7_XP1wfo4kg2",
    "outputId": "d213a8b6-c811-44a1-de9b-953a726ef625"
   },
   "outputs": [],
   "source": [
    "# from google.colab import drive\n",
    "# drive.mount('/content/drive')"
   ]
  },
  {
   "cell_type": "code",
   "execution_count": 3,
   "metadata": {
    "colab": {
     "base_uri": "https://localhost:8080/",
     "height": 313
    },
    "id": "vOTjV4cV4vqy",
    "outputId": "b35aa75e-9c1a-42ae-d381-de8186d9af5e"
   },
   "outputs": [
    {
     "data": {
      "text/html": [
       "<div>\n",
       "<style scoped>\n",
       "    .dataframe tbody tr th:only-of-type {\n",
       "        vertical-align: middle;\n",
       "    }\n",
       "\n",
       "    .dataframe tbody tr th {\n",
       "        vertical-align: top;\n",
       "    }\n",
       "\n",
       "    .dataframe thead th {\n",
       "        text-align: right;\n",
       "    }\n",
       "</style>\n",
       "<table border=\"1\" class=\"dataframe\">\n",
       "  <thead>\n",
       "    <tr style=\"text-align: right;\">\n",
       "      <th></th>\n",
       "      <th>session_id</th>\n",
       "      <th>DateTime</th>\n",
       "      <th>user_id</th>\n",
       "      <th>product</th>\n",
       "      <th>campaign_id</th>\n",
       "      <th>webpage_id</th>\n",
       "      <th>product_category_1</th>\n",
       "      <th>product_category_2</th>\n",
       "      <th>user_group_id</th>\n",
       "      <th>gender</th>\n",
       "      <th>age_level</th>\n",
       "      <th>user_depth</th>\n",
       "      <th>city_development_index</th>\n",
       "      <th>var_1</th>\n",
       "      <th>is_click</th>\n",
       "    </tr>\n",
       "  </thead>\n",
       "  <tbody>\n",
       "    <tr>\n",
       "      <th>0</th>\n",
       "      <td>98528.0</td>\n",
       "      <td>2017-07-04 16:42</td>\n",
       "      <td>7716.0</td>\n",
       "      <td>C</td>\n",
       "      <td>405490.0</td>\n",
       "      <td>60305.0</td>\n",
       "      <td>3.0</td>\n",
       "      <td>NaN</td>\n",
       "      <td>3.0</td>\n",
       "      <td>Male</td>\n",
       "      <td>3.0</td>\n",
       "      <td>3.0</td>\n",
       "      <td>NaN</td>\n",
       "      <td>1.0</td>\n",
       "      <td>1.0</td>\n",
       "    </tr>\n",
       "    <tr>\n",
       "      <th>1</th>\n",
       "      <td>589714.0</td>\n",
       "      <td>2017-07-07 07:40</td>\n",
       "      <td>1035283.0</td>\n",
       "      <td>I</td>\n",
       "      <td>118601.0</td>\n",
       "      <td>28529.0</td>\n",
       "      <td>4.0</td>\n",
       "      <td>82527.0</td>\n",
       "      <td>10.0</td>\n",
       "      <td>Female</td>\n",
       "      <td>4.0</td>\n",
       "      <td>3.0</td>\n",
       "      <td>3.0</td>\n",
       "      <td>1.0</td>\n",
       "      <td>0.0</td>\n",
       "    </tr>\n",
       "    <tr>\n",
       "      <th>2</th>\n",
       "      <td>478652.0</td>\n",
       "      <td>2017-07-07 20:42</td>\n",
       "      <td>65994.0</td>\n",
       "      <td>H</td>\n",
       "      <td>359520.0</td>\n",
       "      <td>13787.0</td>\n",
       "      <td>4.0</td>\n",
       "      <td>NaN</td>\n",
       "      <td>4.0</td>\n",
       "      <td>Male</td>\n",
       "      <td>4.0</td>\n",
       "      <td>3.0</td>\n",
       "      <td>2.0</td>\n",
       "      <td>0.0</td>\n",
       "      <td>0.0</td>\n",
       "    </tr>\n",
       "    <tr>\n",
       "      <th>3</th>\n",
       "      <td>34536.0</td>\n",
       "      <td>2017-07-05 15:05</td>\n",
       "      <td>75976.0</td>\n",
       "      <td>H</td>\n",
       "      <td>405490.0</td>\n",
       "      <td>60305.0</td>\n",
       "      <td>3.0</td>\n",
       "      <td>NaN</td>\n",
       "      <td>3.0</td>\n",
       "      <td>Male</td>\n",
       "      <td>3.0</td>\n",
       "      <td>3.0</td>\n",
       "      <td>3.0</td>\n",
       "      <td>0.0</td>\n",
       "      <td>0.0</td>\n",
       "    </tr>\n",
       "    <tr>\n",
       "      <th>4</th>\n",
       "      <td>71863.0</td>\n",
       "      <td>2017-07-06 20:11</td>\n",
       "      <td>987498.0</td>\n",
       "      <td>C</td>\n",
       "      <td>405490.0</td>\n",
       "      <td>60305.0</td>\n",
       "      <td>3.0</td>\n",
       "      <td>NaN</td>\n",
       "      <td>2.0</td>\n",
       "      <td>Male</td>\n",
       "      <td>2.0</td>\n",
       "      <td>3.0</td>\n",
       "      <td>2.0</td>\n",
       "      <td>0.0</td>\n",
       "      <td>0.0</td>\n",
       "    </tr>\n",
       "  </tbody>\n",
       "</table>\n",
       "</div>"
      ],
      "text/plain": [
       "   session_id          DateTime    user_id product  campaign_id  webpage_id  \\\n",
       "0     98528.0  2017-07-04 16:42     7716.0       C     405490.0     60305.0   \n",
       "1    589714.0  2017-07-07 07:40  1035283.0       I     118601.0     28529.0   \n",
       "2    478652.0  2017-07-07 20:42    65994.0       H     359520.0     13787.0   \n",
       "3     34536.0  2017-07-05 15:05    75976.0       H     405490.0     60305.0   \n",
       "4     71863.0  2017-07-06 20:11   987498.0       C     405490.0     60305.0   \n",
       "\n",
       "   product_category_1  product_category_2  user_group_id  gender  age_level  \\\n",
       "0                 3.0                 NaN            3.0    Male        3.0   \n",
       "1                 4.0             82527.0           10.0  Female        4.0   \n",
       "2                 4.0                 NaN            4.0    Male        4.0   \n",
       "3                 3.0                 NaN            3.0    Male        3.0   \n",
       "4                 3.0                 NaN            2.0    Male        2.0   \n",
       "\n",
       "   user_depth  city_development_index  var_1  is_click  \n",
       "0         3.0                     NaN    1.0       1.0  \n",
       "1         3.0                     3.0    1.0       0.0  \n",
       "2         3.0                     2.0    0.0       0.0  \n",
       "3         3.0                     3.0    0.0       0.0  \n",
       "4         3.0                     2.0    0.0       0.0  "
      ]
     },
     "execution_count": 3,
     "metadata": {},
     "output_type": "execute_result"
    }
   ],
   "source": [
    "df = pd.read_csv('train_dataset_full.csv')\n",
    "# Load df_test\n",
    "df_test = pd.read_csv('X_test_1st.csv')\n",
    "df.head()\n"
   ]
  },
  {
   "cell_type": "code",
   "execution_count": 4,
   "metadata": {},
   "outputs": [],
   "source": [
    "\n",
    "# Create a copy of df_\n",
    "df_ = df.copy()\n",
    "\n",
    "# Add an identifier column to track original source\n",
    "df_['source'] = 'train'  # Mark df_ rows\n",
    "df_test['source'] = 'test'  # Mark df_test rows\n",
    "\n",
    "# Concatenate the DataFrames\n",
    "pd_concat = pd.concat([df_, df_test], ignore_index=True)\n",
    "\n",
    "# Fill missing values using forward & backward fill\n",
    "labels = ['gender', 'age_level', 'city_development_index', 'user_group_id']\n",
    "pd_concat[labels] = pd_concat.groupby('user_id')[labels].transform(lambda x: x.fillna(method='ffill').fillna(method='bfill'))\n",
    "pd_concat['user_group_id'] = np.where(pd_concat['gender'] == 'Male', pd_concat['age_level'], pd_concat['age_level'] + 6)\n",
    "mapping_dict = df.dropna().set_index('webpage_id')['campaign_id'].to_dict()\n",
    "df['campaign_id'] = df['campaign_id'].fillna(df['webpage_id'].map(mapping_dict))\n",
    "\n",
    "\n",
    "# Split them back based on the 'source' column\n",
    "df_ = pd_concat[pd_concat['source'] == 'train'].drop(columns=['source']).reset_index(drop=True)\n",
    "df_test = pd_concat[pd_concat['source'] == 'test'].drop(columns=['source']).reset_index(drop=True)\n"
   ]
  },
  {
   "cell_type": "code",
   "execution_count": 5,
   "metadata": {
    "colab": {
     "base_uri": "https://localhost:8080/"
    },
    "id": "RnbXgR5F77bb",
    "outputId": "cf3be0f2-7bde-4bad-e7e5-6f56bd76919e"
   },
   "outputs": [
    {
     "name": "stdout",
     "output_type": "stream",
     "text": [
      "<class 'pandas.core.frame.DataFrame'>\n",
      "RangeIndex: 389163 entries, 0 to 389162\n",
      "Data columns (total 15 columns):\n",
      " #   Column                  Non-Null Count   Dtype  \n",
      "---  ------                  --------------   -----  \n",
      " 0   session_id              384997 non-null  float64\n",
      " 1   DateTime                385054 non-null  object \n",
      " 2   user_id                 385055 non-null  float64\n",
      " 3   product                 384989 non-null  object \n",
      " 4   campaign_id             386364 non-null  float64\n",
      " 5   webpage_id              385006 non-null  float64\n",
      " 6   product_category_1      384962 non-null  float64\n",
      " 7   product_category_2      80928 non-null   float64\n",
      " 8   user_group_id           369844 non-null  float64\n",
      " 9   gender                  369839 non-null  object \n",
      " 10  age_level               369854 non-null  float64\n",
      " 11  user_depth              369841 non-null  float64\n",
      " 12  city_development_index  281026 non-null  float64\n",
      " 13  var_1                   385002 non-null  float64\n",
      " 14  is_click                385031 non-null  float64\n",
      "dtypes: float64(12), object(3)\n",
      "memory usage: 44.5+ MB\n"
     ]
    }
   ],
   "source": [
    "df.info()"
   ]
  },
  {
   "cell_type": "code",
   "execution_count": 6,
   "metadata": {
    "id": "0Eu1AaUc5kP0"
   },
   "outputs": [],
   "source": [
    "# df_.drop('product_category_2', axis = 1, inplace = True)\n",
    "# df_.drop('webpage_id', axis=1, inplace=True)\n",
    "df_.drop(['webpage_id','age_level','gender','product_category_2','user_depth'], axis=1, inplace=True)\n",
    "df = df_[~df_['session_id'].duplicated(keep='first') | df_['session_id'].isna()]\n",
    "df_.dropna(subset=['is_click'], axis=0, inplace=True)\n",
    "# labels = ['gender', 'age_level', 'city_development_index', 'user_group_id']\n",
    "# df[labels] = df_.groupby('user_id')[labels].transform(lambda x: x.fillna(method='ffill').fillna(method='bfill'))\n",
    "df = df_.dropna(thresh=len(df.columns) - 5)\n"
   ]
  },
  {
   "cell_type": "code",
   "execution_count": 7,
   "metadata": {
    "colab": {
     "base_uri": "https://localhost:8080/"
    },
    "id": "1RG758Uk8AwW",
    "outputId": "e857a62a-43d4-4ccd-8119-e11f8bd99608"
   },
   "outputs": [
    {
     "name": "stdout",
     "output_type": "stream",
     "text": [
      "<class 'pandas.core.frame.DataFrame'>\n",
      "Index: 385031 entries, 0 to 389162\n",
      "Data columns (total 10 columns):\n",
      " #   Column                  Non-Null Count   Dtype  \n",
      "---  ------                  --------------   -----  \n",
      " 0   session_id              383605 non-null  float64\n",
      " 1   DateTime                383629 non-null  object \n",
      " 2   user_id                 383670 non-null  float64\n",
      " 3   product                 383636 non-null  object \n",
      " 4   campaign_id             383606 non-null  float64\n",
      " 5   product_category_1      383670 non-null  float64\n",
      " 6   user_group_id           368449 non-null  float64\n",
      " 7   city_development_index  279949 non-null  float64\n",
      " 8   var_1                   383626 non-null  float64\n",
      " 9   is_click                385031 non-null  float64\n",
      "dtypes: float64(8), object(2)\n",
      "memory usage: 32.3+ MB\n"
     ]
    }
   ],
   "source": [
    "df_.info()"
   ]
  },
  {
   "cell_type": "code",
   "execution_count": 9,
   "metadata": {
    "id": "WMff3SaV-5GT"
   },
   "outputs": [],
   "source": [
    "df_['DateTime'] = pd.to_datetime(df_['DateTime'])\n",
    "df_['day'] = df_['DateTime'].dt.day\n",
    "df_['hour'] = df_['DateTime'].dt.hour"
   ]
  },
  {
   "cell_type": "code",
   "execution_count": 10,
   "metadata": {
    "colab": {
     "base_uri": "https://localhost:8080/",
     "height": 313
    },
    "id": "ZXBUwziLEztM",
    "outputId": "f3c3a023-ef6b-404e-b8e6-b12112c11eaf"
   },
   "outputs": [
    {
     "data": {
      "text/html": [
       "<div>\n",
       "<style scoped>\n",
       "    .dataframe tbody tr th:only-of-type {\n",
       "        vertical-align: middle;\n",
       "    }\n",
       "\n",
       "    .dataframe tbody tr th {\n",
       "        vertical-align: top;\n",
       "    }\n",
       "\n",
       "    .dataframe thead th {\n",
       "        text-align: right;\n",
       "    }\n",
       "</style>\n",
       "<table border=\"1\" class=\"dataframe\">\n",
       "  <thead>\n",
       "    <tr style=\"text-align: right;\">\n",
       "      <th></th>\n",
       "      <th>session_id</th>\n",
       "      <th>DateTime</th>\n",
       "      <th>user_id</th>\n",
       "      <th>product</th>\n",
       "      <th>campaign_id</th>\n",
       "      <th>product_category_1</th>\n",
       "      <th>user_group_id</th>\n",
       "      <th>city_development_index</th>\n",
       "      <th>var_1</th>\n",
       "      <th>is_click</th>\n",
       "      <th>day</th>\n",
       "      <th>hour</th>\n",
       "    </tr>\n",
       "  </thead>\n",
       "  <tbody>\n",
       "    <tr>\n",
       "      <th>0</th>\n",
       "      <td>98528.0</td>\n",
       "      <td>2017-07-04 16:42:00</td>\n",
       "      <td>7716.0</td>\n",
       "      <td>C</td>\n",
       "      <td>405490.0</td>\n",
       "      <td>3.0</td>\n",
       "      <td>3.0</td>\n",
       "      <td>NaN</td>\n",
       "      <td>1.0</td>\n",
       "      <td>1.0</td>\n",
       "      <td>4.0</td>\n",
       "      <td>16.0</td>\n",
       "    </tr>\n",
       "    <tr>\n",
       "      <th>1</th>\n",
       "      <td>589714.0</td>\n",
       "      <td>2017-07-07 07:40:00</td>\n",
       "      <td>1035283.0</td>\n",
       "      <td>I</td>\n",
       "      <td>118601.0</td>\n",
       "      <td>4.0</td>\n",
       "      <td>10.0</td>\n",
       "      <td>3.0</td>\n",
       "      <td>1.0</td>\n",
       "      <td>0.0</td>\n",
       "      <td>7.0</td>\n",
       "      <td>7.0</td>\n",
       "    </tr>\n",
       "    <tr>\n",
       "      <th>2</th>\n",
       "      <td>478652.0</td>\n",
       "      <td>2017-07-07 20:42:00</td>\n",
       "      <td>65994.0</td>\n",
       "      <td>H</td>\n",
       "      <td>359520.0</td>\n",
       "      <td>4.0</td>\n",
       "      <td>4.0</td>\n",
       "      <td>2.0</td>\n",
       "      <td>0.0</td>\n",
       "      <td>0.0</td>\n",
       "      <td>7.0</td>\n",
       "      <td>20.0</td>\n",
       "    </tr>\n",
       "    <tr>\n",
       "      <th>3</th>\n",
       "      <td>34536.0</td>\n",
       "      <td>2017-07-05 15:05:00</td>\n",
       "      <td>75976.0</td>\n",
       "      <td>H</td>\n",
       "      <td>405490.0</td>\n",
       "      <td>3.0</td>\n",
       "      <td>3.0</td>\n",
       "      <td>3.0</td>\n",
       "      <td>0.0</td>\n",
       "      <td>0.0</td>\n",
       "      <td>5.0</td>\n",
       "      <td>15.0</td>\n",
       "    </tr>\n",
       "    <tr>\n",
       "      <th>4</th>\n",
       "      <td>71863.0</td>\n",
       "      <td>2017-07-06 20:11:00</td>\n",
       "      <td>987498.0</td>\n",
       "      <td>C</td>\n",
       "      <td>405490.0</td>\n",
       "      <td>3.0</td>\n",
       "      <td>2.0</td>\n",
       "      <td>2.0</td>\n",
       "      <td>0.0</td>\n",
       "      <td>0.0</td>\n",
       "      <td>6.0</td>\n",
       "      <td>20.0</td>\n",
       "    </tr>\n",
       "  </tbody>\n",
       "</table>\n",
       "</div>"
      ],
      "text/plain": [
       "   session_id            DateTime    user_id product  campaign_id  \\\n",
       "0     98528.0 2017-07-04 16:42:00     7716.0       C     405490.0   \n",
       "1    589714.0 2017-07-07 07:40:00  1035283.0       I     118601.0   \n",
       "2    478652.0 2017-07-07 20:42:00    65994.0       H     359520.0   \n",
       "3     34536.0 2017-07-05 15:05:00    75976.0       H     405490.0   \n",
       "4     71863.0 2017-07-06 20:11:00   987498.0       C     405490.0   \n",
       "\n",
       "   product_category_1  user_group_id  city_development_index  var_1  is_click  \\\n",
       "0                 3.0            3.0                     NaN    1.0       1.0   \n",
       "1                 4.0           10.0                     3.0    1.0       0.0   \n",
       "2                 4.0            4.0                     2.0    0.0       0.0   \n",
       "3                 3.0            3.0                     3.0    0.0       0.0   \n",
       "4                 3.0            2.0                     2.0    0.0       0.0   \n",
       "\n",
       "   day  hour  \n",
       "0  4.0  16.0  \n",
       "1  7.0   7.0  \n",
       "2  7.0  20.0  \n",
       "3  5.0  15.0  \n",
       "4  6.0  20.0  "
      ]
     },
     "execution_count": 10,
     "metadata": {},
     "output_type": "execute_result"
    }
   ],
   "source": [
    "df_.head()"
   ]
  },
  {
   "cell_type": "code",
   "execution_count": 11,
   "metadata": {},
   "outputs": [
    {
     "name": "stdout",
     "output_type": "stream",
     "text": [
      "Train Shape: (308024, 8), Test Shape: (77007, 8)\n",
      "Class Distribution in Train: [287209  20815]\n",
      "Class Distribution in Test: [71803  5204]\n"
     ]
    }
   ],
   "source": [
    "import pandas as pd\n",
    "import numpy as np\n",
    "from catboost import CatBoostClassifier, Pool\n",
    "from sklearn.model_selection import train_test_split\n",
    "from sklearn.metrics import classification_report\n",
    "\n",
    "# Target variable\n",
    "y = df_['is_click']\n",
    "X = df_.drop(['is_click', 'DateTime', 'user_id', 'session_id'], axis=1)\n",
    "\n",
    "# Splitting Data\n",
    "X_train, X_test, y_train, y_test = train_test_split(X, y, test_size=0.2, random_state=1, stratify=y)\n",
    "\n",
    "# Define categorical and numerical features\n",
    "categorical_features = ['campaign_id', 'product_category_1', 'user_group_id', 'product','city_development_index', 'var_1']\n",
    "# numerical_features = []\n",
    "\n",
    "# Ensure categorical features are strings\n",
    "for col in categorical_features:\n",
    "    X_train[col] = X_train[col].astype(str)\n",
    "    X_test[col] = X_test[col].astype(str)\n",
    "\n",
    "# Convert numerical features to numeric & handle missing values\n",
    "# for col in numerical_features:\n",
    "#     X_train[col] = pd.to_numeric(X_train[col], errors='coerce')  # Convert invalid values to NaN\n",
    "#     X_test[col] = pd.to_numeric(X_test[col], errors='coerce')\n",
    "\n",
    "# # Fill missing numerical values with median (safe for skewed data)\n",
    "# X_train[numerical_features] = X_train[numerical_features].fillna(X_train[numerical_features].median())\n",
    "# X_test[numerical_features] = X_test[numerical_features].fillna(X_test[numerical_features].median())\n",
    "\n",
    "# Ensure y_train and y_test are clean\n",
    "y_train = y_train.fillna(0).astype(int)\n",
    "y_test = y_test.fillna(0).astype(int)\n",
    "\n",
    "# Create CatBoost Pool (optimized format)\n",
    "train_pool = Pool(X_train, label=y_train, cat_features=categorical_features)\n",
    "test_pool = Pool(X_test, label=y_test, cat_features=categorical_features)\n",
    "\n",
    "# Print data information\n",
    "print(f\"Train Shape: {X_train.shape}, Test Shape: {X_test.shape}\")\n",
    "print(f\"Class Distribution in Train: {np.bincount(y_train)}\")\n",
    "print(f\"Class Distribution in Test: {np.bincount(y_test)}\")\n"
   ]
  },
  {
   "cell_type": "code",
   "execution_count": 12,
   "metadata": {
    "colab": {
     "base_uri": "https://localhost:8080/",
     "height": 588
    },
    "id": "9IYQsY5hA8lq",
    "outputId": "15f32270-f918-4eb7-cfb6-bb13ab0f1a7a"
   },
   "outputs": [
    {
     "name": "stdout",
     "output_type": "stream",
     "text": [
      "Class 0 Count: 287209, Class 1 Count: 20815\n",
      "Class Imbalance Ratio: 0.0725\n",
      "0:\ttest: 0.5598023\tbest: 0.5598023 (0)\ttotal: 126ms\tremaining: 2m 9s\n",
      "100:\ttest: 0.5850322\tbest: 0.5851042 (97)\ttotal: 8.64s\tremaining: 1m 18s\n",
      "200:\ttest: 0.5871914\tbest: 0.5871914 (200)\ttotal: 18.8s\tremaining: 1m 17s\n",
      "300:\ttest: 0.5885069\tbest: 0.5885069 (300)\ttotal: 30.1s\tremaining: 1m 12s\n",
      "400:\ttest: 0.5895998\tbest: 0.5895998 (399)\ttotal: 39.8s\tremaining: 1m 1s\n",
      "500:\ttest: 0.5898187\tbest: 0.5898584 (495)\ttotal: 49.6s\tremaining: 51.8s\n",
      "600:\ttest: 0.5900529\tbest: 0.5900661 (587)\ttotal: 59.2s\tremaining: 41.7s\n",
      "700:\ttest: 0.5901711\tbest: 0.5903275 (688)\ttotal: 1m 8s\tremaining: 31.8s\n",
      "800:\ttest: 0.5903113\tbest: 0.5904197 (783)\ttotal: 1m 18s\tremaining: 21.9s\n",
      "900:\ttest: 0.5903886\tbest: 0.5904887 (861)\ttotal: 1m 26s\tremaining: 11.8s\n",
      "Stopped by overfitting detector  (100 iterations wait)\n",
      "\n",
      "bestTest = 0.590488673\n",
      "bestIteration = 861\n",
      "\n",
      "Shrink model to first 862 iterations.\n"
     ]
    },
    {
     "data": {
      "text/plain": [
       "<catboost.core.CatBoostClassifier at 0x151890460>"
      ]
     },
     "execution_count": 12,
     "metadata": {},
     "output_type": "execute_result"
    }
   ],
   "source": [
    "# Define CatBoost train and test pools\n",
    "train_pool = Pool(X_train, label=y_train, cat_features=categorical_features)\n",
    "test_pool = Pool(X_test, label=y_test, cat_features=categorical_features)  # <-- Ensure test labels are included\n",
    "\n",
    "class_counts = np.bincount(y_train)\n",
    "print(f\"Class 0 Count: {class_counts[0]}, Class 1 Count: {class_counts[1]}\")\n",
    "print(f\"Class Imbalance Ratio: {class_counts[1] / class_counts[0]:.4f}\")\n",
    "\n",
    "\n",
    "scale_pos_weight = class_counts[0] / class_counts[1] \n",
    "\n",
    "\n",
    "# Train the CatBoost model\n",
    "model = CatBoostClassifier(\n",
    "    iterations=1024,  # More iterations for deeper learning\n",
    "    learning_rate=0.01,  # Reduce learning rate to avoid overfitting\n",
    "    depth=10,  # Increase depth for more complex patterns\n",
    "    scale_pos_weight=scale_pos_weight,  # Handle imbalance\n",
    "    loss_function='Logloss',  \n",
    "    eval_metric='AUC',  \n",
    "    bagging_temperature=0.8444,\n",
    "    l2_leaf_reg = 1,\n",
    "    use_best_model=True,  \n",
    "    early_stopping_rounds=100,  # Give the model more time to improve\n",
    "    verbose=100\n",
    ")\n",
    "\n",
    "model.fit(train_pool, eval_set=test_pool, early_stopping_rounds=100)\n"
   ]
  },
  {
   "cell_type": "code",
   "execution_count": 18,
   "metadata": {},
   "outputs": [
    {
     "name": "stdout",
     "output_type": "stream",
     "text": [
      "              precision    recall  f1-score   support\n",
      "\n",
      "           0      0.944     0.626     0.753     71803\n",
      "           1      0.087     0.490     0.147      5204\n",
      "\n",
      "    accuracy                          0.617     77007\n",
      "   macro avg      0.516     0.558     0.450     77007\n",
      "weighted avg      0.886     0.617     0.712     77007\n",
      "\n"
     ]
    }
   ],
   "source": [
    "from sklearn.metrics import classification_report\n",
    "y_pred = model.predict(X_test)\n",
    "report = classification_report(y_test, y_pred, digits=3)\n",
    "print(report)"
   ]
  },
  {
   "cell_type": "code",
   "execution_count": 36,
   "metadata": {},
   "outputs": [
    {
     "name": "stdout",
     "output_type": "stream",
     "text": [
      "              precision    recall  f1-score   support\n",
      "\n",
      "           0      0.945     0.625     0.752     71803\n",
      "           1      0.087     0.496     0.149      5204\n",
      "\n",
      "    accuracy                          0.616     77007\n",
      "   macro avg      0.516     0.561     0.450     77007\n",
      "weighted avg      0.887     0.616     0.711     77007\n",
      "\n"
     ]
    },
    {
     "data": {
      "image/png": "[encoded data removed]",
      "text/plain": [
       "<Figure size 600x400 with 2 Axes>"
      ]
     },
     "metadata": {},
     "output_type": "display_data"
    }
   ],
   "source": [
    "from sklearn.metrics import classification_report, confusion_matrix\n",
    "import matplotlib.pyplot as plt\n",
    "import seaborn as sns\n",
    "\n",
    "# Make predictions\n",
    "y_pred = model.predict(X_test)\n",
    "\n",
    "# Classification Report\n",
    "report = classification_report(y_test, y_pred, digits=3)\n",
    "print(report)\n",
    "\n",
    "# Confusion Matrix\n",
    "cm = confusion_matrix(y_test, y_pred)\n",
    "\n",
    "# Plot the confusion matrix\n",
    "plt.figure(figsize=(6, 4))\n",
    "sns.heatmap(cm, annot=True, fmt=\"d\", cmap=\"Blues\", xticklabels=[\"Not Clicked\", \"Clicked\"], yticklabels=[\"Not Clicked\", \"Clicked\"])\n",
    "plt.xlabel(\"Predicted\")\n",
    "plt.ylabel(\"Actual\")\n",
    "plt.title(\"Confusion Matrix\")\n",
    "plt.show()\n"
   ]
  },
  {
   "cell_type": "code",
   "execution_count": 37,
   "metadata": {},
   "outputs": [
    {
     "name": "stdout",
     "output_type": "stream",
     "text": [
      "Balanced Accuracy: 0.5605221546638685\n"
     ]
    }
   ],
   "source": [
    "from sklearn.metrics import balanced_accuracy_score\n",
    "balanced_acc = balanced_accuracy_score(y_test, y_pred)\n",
    "print(\"Balanced Accuracy:\", balanced_acc)\n"
   ]
  },
  {
   "cell_type": "code",
   "execution_count": 14,
   "metadata": {},
   "outputs": [
    {
     "name": "stdout",
     "output_type": "stream",
     "text": [
      "Best Parameters: OrderedDict([('bagging_temperature', 0.844473363244577), ('depth', 10), ('iterations', 1024), ('l2_leaf_reg', 1), ('learning_rate', 0.01)])\n",
      "Best Score: 0.5838178214454784\n"
     ]
    }
   ],
   "source": [
    "from skopt import BayesSearchCV\n",
    "\n",
    "# Define search space\n",
    "param_space = {\n",
    "    'iterations': (500, 2000),\n",
    "    'learning_rate': (0.01, 0.1, 'log-uniform'),\n",
    "    'depth': (4, 10),\n",
    "    'l2_leaf_reg': (1, 10, 'log-uniform'),\n",
    "    'bagging_temperature': (0.0, 1.0)\n",
    "}\n",
    "\n",
    "# Create CatBoost model\n",
    "model = CatBoostClassifier(loss_function='Logloss', cat_features=categorical_features, verbose=0)\n",
    "\n",
    "# Perform Bayesian Optimization\n",
    "bayes_search = BayesSearchCV(model, param_space, n_iter=20, scoring='roc_auc', cv=3, n_jobs=-1, random_state=42)\n",
    "bayes_search.fit(X_train, y_train)\n",
    "\n",
    "# Get best parameters\n",
    "print(\"Best Parameters:\", bayes_search.best_params_)\n",
    "print(\"Best Score:\", bayes_search.best_score_)\n"
   ]
  },
  {
   "cell_type": "code",
   "execution_count": 20,
   "metadata": {},
   "outputs": [
    {
     "name": "stdout",
     "output_type": "stream",
     "text": [
      "Best Parameters: OrderedDict([('bagging_temperature', 0.0905162849522655), ('depth', 5), ('iterations', 1125), ('l2_leaf_reg', 2), ('learning_rate', 0.042162528344533996)])\n",
      "Best Class 1 F1-Score: 0.00019212295869356388\n"
     ]
    }
   ],
   "source": [
    "from skopt import BayesSearchCV\n",
    "from sklearn.metrics import f1_score, make_scorer\n",
    "from catboost import CatBoostClassifier\n",
    "\n",
    "# Define a custom F1-score scorer for Class 1\n",
    "f1_scorer = make_scorer(f1_score, pos_label=1)\n",
    "\n",
    "# Define the parameter space\n",
    "param_space = {\n",
    "    'iterations': (500, 2000),\n",
    "    'learning_rate': (0.01, 0.1, 'log-uniform'),\n",
    "    'depth': (4, 10),\n",
    "    'l2_leaf_reg': (1, 10, 'log-uniform'),\n",
    "    'bagging_temperature': (0.0, 1.0)\n",
    "}\n",
    "\n",
    "# Create the CatBoost model\n",
    "model = CatBoostClassifier(loss_function='Logloss', cat_features=categorical_features, verbose=0)\n",
    "\n",
    "# Perform Bayesian Optimization with Class 1 F1-score\n",
    "bayes_search = BayesSearchCV(\n",
    "    model, param_space, n_iter=20, scoring=f1_scorer, cv=3, n_jobs=-1, random_state=42\n",
    ")\n",
    "\n",
    "# Fit the search\n",
    "bayes_search.fit(X_train, y_train)\n",
    "\n",
    "# Get best parameters\n",
    "print(\"Best Parameters:\", bayes_search.best_params_)\n",
    "print(\"Best Class 1 F1-Score:\", bayes_search.best_score_)\n"
   ]
  },
  {
   "cell_type": "code",
   "execution_count": 13,
   "metadata": {},
   "outputs": [
    {
     "name": "stdout",
     "output_type": "stream",
     "text": [
      "                  Feature  Importance\n",
      "1             campaign_id   18.741457\n",
      "0                 product   14.216836\n",
      "2      product_category_1   13.727633\n",
      "3           user_group_id   13.575256\n",
      "4  city_development_index   11.056639\n",
      "5                   var_1   10.927386\n",
      "6                     day   10.387779\n",
      "7                    hour    7.367014\n"
     ]
    },
    {
     "data": {
      "image/png": "[encoded data removed]",
      "text/plain": [
       "<Figure size 1000x600 with 1 Axes>"
      ]
     },
     "metadata": {},
     "output_type": "display_data"
    }
   ],
   "source": [
    "import matplotlib.pyplot as plt\n",
    "import seaborn as sns\n",
    "\n",
    "# Get feature importance\n",
    "feature_importance = model.get_feature_importance(train_pool)\n",
    "feature_names = X_train.columns\n",
    "\n",
    "# Create a DataFrame for visualization\n",
    "importance_df = pd.DataFrame({\"Feature\": feature_names, \"Importance\": feature_importance})\n",
    "importance_df = importance_df.sort_values(by=\"Importance\", ascending=False)\n",
    "\n",
    "# Print feature importance values\n",
    "print(importance_df)\n",
    "\n",
    "# Plot feature importance\n",
    "plt.figure(figsize=(10, 6))\n",
    "sns.barplot(x=importance_df[\"Importance\"], y=importance_df[\"Feature\"], palette=\"viridis\")\n",
    "plt.xlabel(\"Feature Importance Score\")\n",
    "plt.ylabel(\"Features\")\n",
    "plt.title(\"Feature Importance in CatBoost Model\")\n",
    "plt.show()\n"
   ]
  }
 ],
 "metadata": {
  "colab": {
   "provenance": []
  },
  "kernelspec": {
   "display_name": "Python 3 (ipykernel)",
   "language": "python",
   "name": "python3"
  },
  "language_info": {
   "codemirror_mode": {
    "name": "ipython",
    "version": 3
   },
   "file_extension": ".py",
   "mimetype": "text/x-python",
   "name": "python",
   "nbconvert_exporter": "python",
   "pygments_lexer": "ipython3",
   "version": "3.10.16"
  }
 },
 "nbformat": 4,
 "nbformat_minor": 4
}
